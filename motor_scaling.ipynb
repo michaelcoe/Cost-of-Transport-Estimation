{
 "cells": [
  {
   "cell_type": "code",
   "execution_count": 1,
   "metadata": {},
   "outputs": [],
   "source": [
    "%matplotlib inline\n",
    "import numpy as np\n",
    "import pandas as pd\n",
    "import matplotlib.pyplot as plt\n",
    "\n",
    "from scipy.optimize import curve_fit\n",
    "from pathlib import Path"
   ]
  },
  {
   "cell_type": "code",
   "execution_count": 2,
   "metadata": {},
   "outputs": [
    {
     "ename": "SyntaxError",
     "evalue": "Missing parentheses in call to 'print'. Did you mean print(...)? (__init__.py, line 1187)",
     "output_type": "error",
     "traceback": [
      "Traceback \u001b[0;36m(most recent call last)\u001b[0m:\n",
      "  File \u001b[1;32m~/.local/lib/python3.10/site-packages/IPython/core/interactiveshell.py:3251\u001b[0m in \u001b[1;35mrun_code\u001b[0m\n    exec(code_obj, self.user_global_ns, self.user_ns)\n",
      "  Input \u001b[1;32mIn [2]\u001b[0m in \u001b[1;35m<module>\u001b[0m\n    xlsx = pd.read_excel(data_location, engine='odf')\n",
      "  File \u001b[1;32m~/.local/lib/python3.10/site-packages/pandas/util/_decorators.py:311\u001b[0m in \u001b[1;35mwrapper\u001b[0m\n    return func(*args, **kwargs)\n",
      "  File \u001b[1;32m~/.local/lib/python3.10/site-packages/pandas/io/excel/_base.py:457\u001b[0m in \u001b[1;35mread_excel\u001b[0m\n    io = ExcelFile(io, storage_options=storage_options, engine=engine)\n",
      "  File \u001b[1;32m~/.local/lib/python3.10/site-packages/pandas/io/excel/_base.py:1363\u001b[0m in \u001b[1;35m__init__\u001b[0m\n    if import_optional_dependency(\"xlrd\", errors=\"ignore\") is None:\n",
      "  File \u001b[1;32m~/.local/lib/python3.10/site-packages/pandas/compat/_optional.py:126\u001b[0m in \u001b[1;35mimport_optional_dependency\u001b[0m\n    module = importlib.import_module(name)\n",
      "  File \u001b[1;32m/usr/lib/python3.10/importlib/__init__.py:126\u001b[0m in \u001b[1;35mimport_module\u001b[0m\n    return _bootstrap._gcd_import(name[level:], package, level)\n",
      "  File \u001b[1;32m<frozen importlib._bootstrap>:1050\u001b[0m in \u001b[1;35m_gcd_import\u001b[0m\n",
      "  File \u001b[1;32m<frozen importlib._bootstrap>:1027\u001b[0m in \u001b[1;35m_find_and_load\u001b[0m\n",
      "  File \u001b[1;32m<frozen importlib._bootstrap>:1006\u001b[0m in \u001b[1;35m_find_and_load_unlocked\u001b[0m\n",
      "  File \u001b[1;32m<frozen importlib._bootstrap>:688\u001b[0m in \u001b[1;35m_load_unlocked\u001b[0m\n",
      "  File \u001b[1;32m<frozen importlib._bootstrap_external>:879\u001b[0m in \u001b[1;35mexec_module\u001b[0m\n",
      "  File \u001b[1;32m<frozen importlib._bootstrap_external>:1017\u001b[0m in \u001b[1;35mget_code\u001b[0m\n",
      "  File \u001b[1;32m<frozen importlib._bootstrap_external>:947\u001b[0m in \u001b[1;35msource_to_code\u001b[0m\n",
      "\u001b[0;36m  File \u001b[0;32m<frozen importlib._bootstrap>:241\u001b[0;36m in \u001b[0;35m_call_with_frames_removed\u001b[0;36m\u001b[0m\n",
      "\u001b[0;36m  File \u001b[0;32m~/.local/lib/python3.10/site-packages/xlrd/__init__.py:1187\u001b[0;36m\u001b[0m\n\u001b[0;31m    print \"EXTERNSHEET(b7-):\"\u001b[0m\n\u001b[0m    ^\u001b[0m\n\u001b[0;31mSyntaxError\u001b[0m\u001b[0;31m:\u001b[0m Missing parentheses in call to 'print'. Did you mean print(...)?\n"
     ]
    }
   ],
   "source": [
    "data_location = Path(r'/home/michaelc/Dropbox/Research Papers/motor_data_master.ods')\n",
    "\n",
    "xlsx = pd.read_excel(data_location, engine='odf')"
   ]
  },
  {
   "cell_type": "code",
   "execution_count": null,
   "metadata": {},
   "outputs": [],
   "source": [
    "maxon_df = xlsx.parse(xlsx.sheet_names[0])\n",
    "maxon_df.head()"
   ]
  },
  {
   "cell_type": "code",
   "execution_count": null,
   "metadata": {},
   "outputs": [],
   "source": [
    "plt.rcParams.update({'font.size':18})\n",
    "fig1, ax1 = plt.subplots(figsize=(12,10), facecolor='w')\n",
    "types = maxon_df['Type'].unique()\n",
    "mapping = ['Brushed Precious', 'Brushed Graphite', 'Brushless']\n",
    "colors = ['tab:blue', 'tab:orange', 'tab:green']\n",
    "\n",
    "for i, case in enumerate(types):\n",
    "    df = maxon_df[maxon_df['Type']==case].copy()\n",
    "    df.sort_values(by=['weight [g]'], inplace=True)\n",
    "    power = np.multiply(df['Nominal Voltage [V]'].values, df['Nominal Current [A]'].values)\n",
    "    fit = np.poly1d(np.polyfit(df['weight [g]'], power, 1))\n",
    "    ax1.scatter(df['weight [g]'], power, color=colors[i], label=mapping[i])\n",
    "    ax1.plot(df['weight [g]'], fit(df['weight [g]']), '--', color=colors[i], label=mapping[i] + ' fit')\n",
    "\n",
    "ax1.set_xlabel('Mass [g]')\n",
    "ax1.set_ylabel('Power [W]')\n",
    "ax1.legend()"
   ]
  },
  {
   "cell_type": "code",
   "execution_count": null,
   "metadata": {},
   "outputs": [],
   "source": [
    "plt.rcParams.update({'font.size':18})\n",
    "fig2, ax2 = plt.subplots(figsize=(12,10), facecolor='w')\n",
    "types = maxon_df['Type'].unique()\n",
    "mapping = ['Brushed Precious', 'Brushed Graphite', 'Brushless']\n",
    "colors = ['tab:blue', 'tab:orange', 'tab:green']\n",
    "\n",
    "for i, case in enumerate(types):\n",
    "    df = maxon_df[maxon_df['Type']==case].copy()\n",
    "    df.sort_values(by=['weight [g]'], inplace=True)\n",
    "    fit = np.poly1d(np.polyfit(df['weight [g]'], df['Nominal Torque [mNm]'], 1))\n",
    "    ax2.scatter(df['weight [g]'], df['Nominal Torque [mNm]'], color=colors[i], label=mapping[i])\n",
    "    ax2.plot(df['weight [g]'], fit(df['weight [g]']), '--', color=colors[i], label=mapping[i] + ' fit')\n",
    "\n",
    "ax2.set_xlabel('Mass [g]')\n",
    "ax2.set_ylabel('Torque [mNm]')\n",
    "#ax2.set_yscale('log')\n",
    "#ax2.set_xscale('log')\n",
    "ax2.legend()"
   ]
  },
  {
   "cell_type": "code",
   "execution_count": null,
   "metadata": {},
   "outputs": [],
   "source": [
    "plt.rcParams.update({'font.size':18})\n",
    "fig3, ax3 = plt.subplots(figsize=(12,10), facecolor='w')\n",
    "types = maxon_df['Type'].unique()\n",
    "mapping = ['Brushed Precious', 'Brushed Graphite', 'Brushless']\n",
    "colors = ['tab:blue', 'tab:orange', 'tab:green']\n",
    "\n",
    "for i, case in enumerate(types):\n",
    "    df = maxon_df[maxon_df['Type']==case].copy()\n",
    "    df.sort_values(by=['Price [NZD]'], inplace=True)\n",
    "    #fit = np.poly1d(np.polyfit(df['Price [NZD]'], df['Nominal Torque [mNm]'], 1))\n",
    "    ax3.scatter(df['Price [NZD]'], df['Nominal Torque [mNm]'], color=colors[i], label=mapping[i])\n",
    "    #ax3.plot(df['Price [NZD]'], fit(df['Price [NZD]']), '--', color=colors[i], label=mapping[i] + ' fit')\n",
    "\n",
    "ax3.set_xlabel('Price [NZD]')\n",
    "ax3.set_ylabel('Nominal Torque [mNm]')\n",
    "#ax3.set_yscale('log')\n",
    "#ax3.set_xscale('log')\n",
    "ax3.legend()"
   ]
  },
  {
   "cell_type": "code",
   "execution_count": null,
   "metadata": {},
   "outputs": [],
   "source": []
  }
 ],
 "metadata": {
  "interpreter": {
   "hash": "0fabf3c4c3bf7fd16ef4731162584a792ae3e87a77ae917e9c599ddb25c1dac0"
  },
  "kernelspec": {
   "display_name": "Python 3.10.0 64-bit",
   "language": "python",
   "name": "python3"
  },
  "language_info": {
   "codemirror_mode": {
    "name": "ipython",
    "version": 3
   },
   "file_extension": ".py",
   "mimetype": "text/x-python",
   "name": "python",
   "nbconvert_exporter": "python",
   "pygments_lexer": "ipython3",
   "version": "3.10.2"
  },
  "orig_nbformat": 4
 },
 "nbformat": 4,
 "nbformat_minor": 2
}
