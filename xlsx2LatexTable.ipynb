{
 "cells": [
  {
   "cell_type": "code",
   "execution_count": 1,
   "metadata": {},
   "outputs": [],
   "source": [
    "import pandas as pd\n",
    "import numpy as np\n",
    "from pathlib import Path"
   ]
  },
  {
   "cell_type": "code",
   "execution_count": 2,
   "metadata": {},
   "outputs": [],
   "source": [
    "file_path = Path(r'./AUV_Sw_scaling.xlsx')\n",
    "save_path = Path(r'./')\n",
    "\n",
    "xl = pd.ExcelFile(file_path)\n",
    "\n",
    "sheets = xl.sheet_names # gets the sheet names\n",
    "\n",
    "dataFrameDict = dict()\n",
    "\n",
    "for sheet in sheets:\n",
    "    dataFrameDict[sheet] = xl.parse(sheet, index_col=False)\n",
    "\n",
    "save_template = file_path.parts[-1].split('.')[0]"
   ]
  },
  {
   "cell_type": "code",
   "execution_count": 3,
   "metadata": {},
   "outputs": [],
   "source": [
    "dfs = []\n",
    "for sheet in dataFrameDict:\n",
    "    dfs.append(pd.DataFrame(dataFrameDict[sheet]))"
   ]
  },
  {
   "cell_type": "code",
   "execution_count": 4,
   "metadata": {},
   "outputs": [],
   "source": [
    "for sheet in dataFrameDict:\n",
    "    df = pd.DataFrame(dataFrameDict[sheet])\n",
    "    df.fillna('', inplace=True)\n",
    "\n",
    "    s = df.style.hide()\n",
    "    s.format(precision=2)\n",
    "    with open(save_path.joinpath(save_template + '_' + sheet + '_' + 'table' + '.txt'), 'w') as f:\n",
    "        # write latex\n",
    "        # this is the method you put the table options\n",
    "        f.write(s.to_latex(position=\"htbp!\", position_float=\"centering\", hrules=True))\n",
    "    \n",
    "    f.close()"
   ]
  },
  {
   "cell_type": "code",
   "execution_count": 5,
   "metadata": {},
   "outputs": [],
   "source": [
    "# color each alternating row with light grey at 30 percent opacity\n",
    "text_files = Path(r'./').rglob('*.txt')\n",
    "\n",
    "for file in text_files:\n",
    "    with open(file, 'r') as f:\n",
    "        line_array = np.array(f.readlines())\n",
    "    \n",
    "    idx = np.arange(6, len(line_array), 2)\n",
    "    \n",
    "    line_array = np.insert(line_array, idx, '\\\\rowcolor{lightgray!30}\\n', axis=0)\n",
    "\n",
    "    with open(file, 'w') as f:\n",
    "        f.writelines(line_array)\n",
    "    f.close()"
   ]
  },
  {
   "cell_type": "code",
   "execution_count": null,
   "metadata": {},
   "outputs": [],
   "source": []
  }
 ],
 "metadata": {
  "kernelspec": {
   "display_name": "Python 3.10.2 64-bit",
   "language": "python",
   "name": "python3"
  },
  "language_info": {
   "codemirror_mode": {
    "name": "ipython",
    "version": 3
   },
   "file_extension": ".py",
   "mimetype": "text/x-python",
   "name": "python",
   "nbconvert_exporter": "python",
   "pygments_lexer": "ipython3",
   "version": "3.10.2"
  },
  "orig_nbformat": 4,
  "vscode": {
   "interpreter": {
    "hash": "d77d4ae626862b89c5e374f2d7c33196e34f9016997759d32fcf201af3e74a79"
   }
  }
 },
 "nbformat": 4,
 "nbformat_minor": 2
}
