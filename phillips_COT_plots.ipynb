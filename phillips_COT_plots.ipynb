{
 "cells": [
  {
   "cell_type": "code",
   "execution_count": null,
   "metadata": {},
   "outputs": [],
   "source": [
    "import numpy as np\n",
    "import pandas as pd\n",
    "\n",
    "import matplotlib.pyplot as plt\n",
    "\n",
    "from pathlib import Path\n",
    "\n",
    "from lmfit import Parameters, minimize, fit_report\n",
    "from mpl_toolkits.axes_grid1.inset_locator import zoomed_inset_axes\n",
    "from mpl_toolkits.axes_grid1.inset_locator import mark_inset\n",
    "from mpl_toolkits.axes_grid1.inset_locator import InsetPosition\n",
    "\n",
    "# Global plot parameters\n",
    "plt.rcParams.update({'font.size':20, 'lines.markersize':10})\n",
    "plt.rcParams.update({'mathtext.fontset':'cm'})\n",
    "plt.rcParams.update({'font.family':'Times New Roman'})"
   ]
  },
  {
   "cell_type": "code",
   "execution_count": null,
   "metadata": {},
   "outputs": [],
   "source": [
    "def power_fit_lmfit(params, x, y):\n",
    "        a = params['a']\n",
    "        b = params['b']\n",
    "        y_fit = a* x **b\n",
    "        \n",
    "        return y_fit-y"
   ]
  },
  {
   "cell_type": "code",
   "execution_count": null,
   "metadata": {},
   "outputs": [],
   "source": [
    "dataBase_path = r'./'\n",
    "dataBase_file = r'phillips_COT_data.xlsx'"
   ]
  },
  {
   "cell_type": "code",
   "execution_count": null,
   "metadata": {},
   "outputs": [],
   "source": [
    "data_path = Path(dataBase_path, dataBase_file)\n",
    "optimumDF = pd.read_excel(data_path, sheet_name = 'OptimumCOT')"
   ]
  },
  {
   "cell_type": "code",
   "execution_count": null,
   "metadata": {},
   "outputs": [],
   "source": [
    "# break up the data frame into perspective locomotion modes\n",
    "bio_modes = optimumDF['Species'].unique()\n",
    "\n",
    "optimum_dfs = [optimumDF[optimumDF['Species']==mode] for mode in bio_modes]"
   ]
  },
  {
   "cell_type": "code",
   "execution_count": null,
   "metadata": {},
   "outputs": [],
   "source": [
    "fig1, ax1 = plt.subplots(figsize=(12,10), facecolor='w')\n",
    "\n",
    "markers = ['o', 'v', 's', '^', 'd', '<', 'p', '*', 'X', '>', 'x', 'v', 's', '^', 'd', '<', 'p', '*', 'X', '>']\n",
    "\n",
    "for i, mode in enumerate(bio_modes):\n",
    "    if mode == 'AUVs' or mode == 'LR AUVs and Gliders':\n",
    "        ax1.scatter(optimum_dfs[i]['Displacement'].values, optimum_dfs[i]['COT'].values, marker=markers[i], color='tab:red', label=mode)\n",
    "    else:\n",
    "        ax1.scatter(optimum_dfs[i]['Displacement'].values, optimum_dfs[i]['COT'].values, marker=markers[i], color='tab:blue', label=mode)\n",
    "\n",
    "ax1.set_xlabel('Displacement [kg]')\n",
    "ax1.set_ylabel('$\\mathrm{COT_{opt} [J/kg \\cdot m]}$')\n",
    "ax1.set_xscale('log')\n",
    "ax1.set_yscale('log')\n",
    "ax1.legend(loc=1, ncol=3, bbox_to_anchor=(1.01,1.24))\n",
    "fig1.savefig('Phillips_COT_comparison.pdf', facecolor='w', dpi=300, bbox_inches='tight')"
   ]
  },
  {
   "cell_type": "code",
   "execution_count": null,
   "metadata": {},
   "outputs": [],
   "source": []
  }
 ],
 "metadata": {
  "interpreter": {
   "hash": "e7370f93d1d0cde622a1f8e1c04877d8463912d04d973331ad4851f04de6915a"
  },
  "kernelspec": {
   "display_name": "Python 3.10.4 64-bit",
   "language": "python",
   "name": "python3"
  },
  "language_info": {
   "codemirror_mode": {
    "name": "ipython",
    "version": 3
   },
   "file_extension": ".py",
   "mimetype": "text/x-python",
   "name": "python",
   "nbconvert_exporter": "python",
   "pygments_lexer": "ipython3",
   "version": "3.10.5"
  }
 },
 "nbformat": 4,
 "nbformat_minor": 4
}
